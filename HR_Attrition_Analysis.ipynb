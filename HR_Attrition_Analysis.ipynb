# Proyek Akhir: Menyelesaikan Permasalahan Human Resources

- Nama: Naufal Nur Fahriza
- Email: a297ybf370@devacademy.id
- Id Dicoding: nurfahriza

## Persiapan

### Menyiapkan library yang dibutuhkan

\`\`\`python
# Import library yang diperlukan
import numpy as np
import pandas as pd
import matplotlib.pyplot as plt
import seaborn as sns
from sklearn.model_selection import train_test_split
from sklearn.preprocessing import StandardScaler, OneHotEncoder
from sklearn.compose import ColumnTransformer
from sklearn.pipeline import Pipeline
from sklearn.ensemble import RandomForestClassifier
from sklearn.metrics import classification_report, confusion_matrix, accuracy_score, roc_auc_score, roc_curve
import joblib
from sklearn.impute import SimpleImputer
\`\`\`
