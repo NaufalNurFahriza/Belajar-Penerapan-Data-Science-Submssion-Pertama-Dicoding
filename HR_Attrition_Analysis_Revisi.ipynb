{
 "cells": [
  {
   "cell_type": "markdown",
   "id": "dd9aed31",
   "metadata": {},
   "source": [
    "# HR Attrition Analysis"
   ]
  },
  {
   "cell_type": "markdown",
   "id": "bc0237e0",
   "metadata": {},
   "source": [
    "## 1. Business Understanding\n",
    "Tujuan dari proyek ini adalah untuk menganalisis data karyawan dan memprediksi kemungkinan seorang karyawan akan keluar (attrition), guna membantu tim HR dalam membuat keputusan berbasis data."
   ]
  },
  {
   "cell_type": "markdown",
   "id": "7ff33c65",
   "metadata": {},
   "source": [
    "## 2. Import Library"
   ]
  },
  {
   "cell_type": "code",
   "execution_count": null,
   "id": "0b89a86d",
   "metadata": {},
   "outputs": [],
   "source": [
    "import pandas as pd\n",
    "import numpy as np\n",
    "import matplotlib.pyplot as plt\n",
    "import seaborn as sns\n",
    "\n",
    "from sklearn.model_selection import train_test_split\n",
    "from sklearn.preprocessing import LabelEncoder, StandardScaler\n",
    "from sklearn.linear_model import LogisticRegression\n",
    "from sklearn.ensemble import RandomForestClassifier\n",
    "from sklearn.metrics import classification_report, confusion_matrix, accuracy_score\n",
    "\n",
    "import warnings\n",
    "warnings.filterwarnings('ignore')"
   ]
  },
  {
   "cell_type": "markdown",
   "id": "bccb7342",
   "metadata": {},
   "source": [
    "## 3. Load Dataset"
   ]
  },
  {
   "cell_type": "code",
   "execution_count": null,
   "id": "a1df84d0",
   "metadata": {},
   "outputs": [],
   "source": [
    "df = pd.read_csv(\"employee_data.csv\")\n",
    "df.head()"
   ]
  },
  {
   "cell_type": "markdown",
   "id": "a484bd80",
   "metadata": {},
   "source": [
    "## 4. Data Understanding"
   ]
  },
  {
   "cell_type": "code",
   "execution_count": null,
   "id": "096821c3",
   "metadata": {},
   "outputs": [],
   "source": [
    "df.info()\n",
    "df.describe()"
   ]
  },
  {
   "cell_type": "markdown",
   "id": "43586b01",
   "metadata": {},
   "source": [
    "## 5. Exploratory Data Analysis"
   ]
  },
  {
   "cell_type": "code",
   "execution_count": null,
   "id": "957e174b",
   "metadata": {},
   "outputs": [],
   "source": [
    "# Distribusi target\n",
    "sns.countplot(data=df, x='Attrition')\n",
    "plt.title('Distribusi Attrition')\n",
    "plt.show()"
   ]
  },
  {
   "cell_type": "code",
   "execution_count": null,
   "id": "1b502512",
   "metadata": {},
   "outputs": [],
   "source": [
    "# Korelasi fitur numerik\n",
    "plt.figure(figsize=(10,8))\n",
    "sns.heatmap(df.corr(numeric_only=True), annot=True, cmap='coolwarm')\n",
    "plt.title(\"Correlation Matrix\")\n",
    "plt.show()"
   ]
  },
  {
   "cell_type": "markdown",
   "id": "cf7986e1",
   "metadata": {},
   "source": [
    "## 6. Data Preparation"
   ]
  },
  {
   "cell_type": "code",
   "execution_count": null,
   "id": "1de5b085",
   "metadata": {},
   "outputs": [],
   "source": [
    "# Drop kolom tidak relevan\n",
    "df = df.drop(['EmployeeCount', 'EmployeeNumber', 'Over18', 'StandardHours'], axis=1)\n",
    "\n",
    "# Encode target\n",
    "df['Attrition'] = df['Attrition'].map({'Yes': 1, 'No': 0})\n",
    "\n",
    "# Encode fitur kategorik\n",
    "cat_cols = df.select_dtypes(include='object').columns\n",
    "df[cat_cols] = df[cat_cols].apply(LabelEncoder().fit_transform)\n",
    "\n",
    "# Scaling\n",
    "scaler = StandardScaler()\n",
    "num_cols = df.select_dtypes(include=['int64', 'float64']).columns.drop('Attrition')\n",
    "df[num_cols] = scaler.fit_transform(df[num_cols])\n",
    "\n",
    "# Split data\n",
    "X = df.drop('Attrition', axis=1)\n",
    "y = df['Attrition']\n",
    "X_train, X_test, y_train, y_test = train_test_split(X, y, test_size=0.2, random_state=42)"
   ]
  },
  {
   "cell_type": "markdown",
   "id": "b5d0cc5b",
   "metadata": {},
   "source": [
    "## 7. Modeling"
   ]
  },
  {
   "cell_type": "code",
   "execution_count": null,
   "id": "4af5b0df",
   "metadata": {},
   "outputs": [],
   "source": [
    "# Logistic Regression\n",
    "logreg = LogisticRegression()\n",
    "logreg.fit(X_train, y_train)\n",
    "y_pred_logreg = logreg.predict(X_test)\n",
    "\n",
    "# Random Forest\n",
    "rf = RandomForestClassifier(random_state=42)\n",
    "rf.fit(X_train, y_train)\n",
    "y_pred_rf = rf.predict(X_test)"
   ]
  },
  {
   "cell_type": "markdown",
   "id": "621345b9",
   "metadata": {},
   "source": [
    "## 8. Evaluation"
   ]
  },
  {
   "cell_type": "code",
   "execution_count": null,
   "id": "b89be59d",
   "metadata": {},
   "outputs": [],
   "source": [
    "print(\"Logistic Regression\")\n",
    "print(classification_report(y_test, y_pred_logreg))\n",
    "print(\"Accuracy:\", accuracy_score(y_test, y_pred_logreg))"
   ]
  },
  {
   "cell_type": "code",
   "execution_count": null,
   "id": "4f47504a",
   "metadata": {},
   "outputs": [],
   "source": [
    "print(\"Random Forest Classifier\")\n",
    "print(classification_report(y_test, y_pred_rf))\n",
    "print(\"Accuracy:\", accuracy_score(y_test, y_pred_rf))"
   ]
  },
  {
   "cell_type": "markdown",
   "id": "b7505b6e",
   "metadata": {},
   "source": [
    "## 9. Conclusion\n",
    "Beberapa fitur yang memiliki pengaruh kuat terhadap attrition antara lain: `OverTime`, `JobSatisfaction`, `YearsAtCompany`, dan `MonthlyIncome`. Model Random Forest memberikan performa lebih baik dibanding Logistic Regression."
   ]
  }
 ],
 "metadata": {},
 "nbformat": 4,
 "nbformat_minor": 5
}
